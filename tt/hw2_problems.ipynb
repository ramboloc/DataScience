{
 "cells": [
  {
   "cell_type": "markdown",
   "id": "e32ab7cb",
   "metadata": {
    "pycharm": {
     "name": "#%% md\n"
    }
   },
   "source": [
    "# Homework 2"
   ]
  },
  {
   "cell_type": "markdown",
   "id": "0906aac2",
   "metadata": {
    "pycharm": {
     "name": "#%% md\n"
    }
   },
   "source": [
    "It can be problematic to use standard kernel density estimation to approximate a density with bounded support. Demonstrate this as follows:\n",
    "\n",
    "- Simulate lognormal data.\n",
    "- Fit Gaussian kernel density estimates using `scipy.stats.gaussian_kde`.\n",
    "- Display three plots showing the tradeoff between fit at the support boundary and overall fit.\n",
    "\n",
    "Explain why the phenomenon demonstrated in the plots occurs."
   ]
  },
  {
   "cell_type": "markdown",
   "source": [
    "Simulate lognormal data."
   ],
   "metadata": {
    "collapsed": false,
    "pycharm": {
     "name": "#%% md\n"
    }
   }
  },
  {
   "cell_type": "markdown",
   "source": [
    "### Simulate lognormal data.\n"
   ],
   "metadata": {
    "collapsed": false,
    "pycharm": {
     "name": "#%% md\n"
    }
   }
  },
  {
   "cell_type": "code",
   "execution_count": 137,
   "outputs": [
    {
     "data": {
      "text/plain": "array([0.2784912 , 0.65315864, 0.71358926, 1.15943789, 1.936112  ,\n       1.06718575, 0.66943308, 0.78495823, 1.4656188 , 0.41356801,\n       0.37483154, 1.60002921, 0.35950935, 0.76619384, 3.17704601,\n       1.34143359, 1.1540405 , 2.78326827, 3.59017896, 1.53081808,\n       0.70927272, 1.39612261, 0.77907066, 1.54493261, 0.23643011,\n       0.67015707, 0.28046944, 0.8923705 , 0.58005601, 1.3688617 ,\n       0.53564578, 0.80686196, 1.28726155, 1.0942858 , 0.47427574,\n       1.00149101, 1.36320115, 2.48814405, 1.6763548 , 3.13412069,\n       1.26923108, 0.7050999 , 0.45861771, 0.38623927, 0.81886989,\n       0.86165512, 0.9595176 , 0.44608616, 1.35698346, 0.78357238,\n       1.4275535 , 0.38354974, 0.37535608, 1.16971242, 1.35994004,\n       0.71251195, 0.40653678, 1.21855224, 0.70642132, 1.22002466,\n       0.92672583, 3.1138703 , 1.5943937 , 0.83160731, 1.12699634,\n       1.49298984, 0.43646981, 1.24800424, 2.50654932, 1.13984335,\n       1.03259446, 1.28394285, 0.79008366, 1.18243659, 2.34433805,\n       0.86480431, 0.59109655, 1.30365504, 1.67654893, 1.16789546,\n       0.91337475, 0.85876595, 2.41111412, 3.04453412, 1.1311292 ,\n       1.12436175, 0.32799343, 0.49630541, 4.80943805, 3.41479904,\n       0.5520528 , 1.81575411, 1.64110583, 1.13688466, 1.09137989,\n       0.78184755, 2.60540941, 0.96176335, 1.17872817, 0.35539226,\n       1.11936677, 2.01494682, 0.71376508, 0.80859087, 0.31221374,\n       2.94767765, 0.87044495, 1.74658521, 1.26978278, 1.37863795,\n       0.71822417, 0.18373365, 1.44939309, 0.65663193, 1.40217211,\n       1.32629962, 0.8775796 , 1.2149937 , 0.97308697, 1.67347835,\n       2.18496016, 1.37494593, 0.7540509 , 0.72143665, 1.0677404 ,\n       1.06780487, 0.45602678, 0.54794819, 0.13529147, 2.06412035,\n       1.31962871, 7.38892885, 0.8184752 , 0.40678316, 1.18297402,\n       0.76072257, 1.1531301 , 0.85997146, 1.89063108, 1.67258779,\n       0.63705055, 1.33958175, 1.3036219 , 0.40802186, 0.88357846,\n       0.83872549, 0.7215088 , 1.18456157, 2.08574261, 1.45119526,\n       0.96202933, 1.8818953 , 0.42169972, 0.51789018, 1.10267104,\n       0.94168336, 1.06110285, 0.37811375, 0.67217926, 1.22305557,\n       0.26702797, 0.8644375 , 1.97837008, 1.28688065, 1.15280987,\n       1.29357401, 0.93319964, 1.37544518, 0.58816738, 2.09934319,\n       1.00586933, 0.62695118, 2.76802991, 0.78574171, 0.98314682,\n       1.58259614, 0.91394438, 4.08698764, 1.15544423, 0.97597404,\n       0.8924666 , 0.67221245, 0.59487357, 1.4744674 , 0.6484518 ,\n       1.01254409, 1.81391673, 1.80193093, 0.93746403, 2.26440809,\n       1.2093371 , 0.62440603, 1.07583195, 0.42058681, 1.56695618,\n       1.28459824, 1.08894367, 0.379095  , 0.29968443, 0.82347921,\n       0.78172904, 0.33087378, 1.01358569, 0.60268397, 0.80783067,\n       1.27841787, 1.56167441, 0.86029136, 1.16462939, 1.53525107,\n       0.43828286, 1.03600693, 2.01804997, 0.9305664 , 1.81305502,\n       0.83279279, 2.24012501, 0.83116621, 0.56954663, 2.13427667,\n       0.53036593, 0.92702269, 1.79879377, 0.42679793, 1.14977192,\n       0.83178491, 0.56377892, 0.52120418, 0.42592736, 0.50176074,\n       1.01040168, 1.38206659, 0.74928308, 0.80384561, 0.85101977,\n       1.69561321, 0.85942872, 1.04513041, 1.12741746, 1.02680565,\n       0.76895769, 0.62081899, 1.58131684, 1.09237218, 1.21019155,\n       0.8887268 , 0.71900818, 0.80343137, 0.83112803, 0.28608969,\n       0.9057352 , 1.22055021, 0.92964133, 0.35597727, 0.84659346,\n       0.38073405, 1.11077261, 1.46218193, 1.19024174, 0.41649675,\n       2.41529931, 0.79689819, 2.08168382, 0.83182397, 1.67331617,\n       1.66101609, 1.343141  , 0.88671007, 0.97794209, 1.11749255,\n       4.61459537, 0.51699095, 0.2845314 , 2.69492638, 0.99371381,\n       1.79402471, 0.61806981, 0.58221447, 0.42968676, 0.68531771,\n       0.96159932, 0.69479026, 1.31159069, 0.79559445, 0.4336299 ,\n       1.45743996, 0.4162035 , 1.07225021, 1.59604699, 1.45927935,\n       1.1524871 , 1.32396335, 0.56905483, 0.29031639, 0.84274391,\n       0.6846031 , 0.99508067, 1.39286137, 0.65558613, 0.62161088,\n       0.50696456, 0.65901708, 4.40648728, 0.73159775, 0.64470209,\n       0.42965515, 1.29204105, 1.92759346, 2.66026819, 0.39455001,\n       0.4926087 , 1.31505499, 1.05691602, 0.84728094, 1.51748243,\n       1.02482134, 1.84148944, 0.757906  , 1.05325411, 1.28607221,\n       1.09078271, 0.65616352, 1.34147119, 0.94042494, 0.74712969,\n       1.31842955, 0.72829918, 0.79790219, 0.71240008, 1.85431354,\n       1.2051436 , 0.94897479, 1.66269703, 1.09253791, 1.01424067,\n       3.07965751, 0.62886551, 1.72463125, 2.15270225, 1.41853055,\n       1.30966497, 0.45460407, 0.42288597, 0.94820644, 1.02430039,\n       0.69545871, 0.25741245, 0.54149163, 2.27602044, 0.9038684 ,\n       1.7095024 , 0.89174469, 3.964087  , 1.22723181, 0.86711541,\n       1.30131046, 0.48610749, 0.78788258, 0.4060219 , 1.36324789,\n       0.61010956, 1.04409101, 1.35838789, 1.01757989, 0.64385142,\n       0.83228676, 0.59780077, 1.34285688, 2.02771012, 1.01672867,\n       0.90205221, 0.56647891, 0.60943748, 1.75013982, 0.77900871,\n       0.656737  , 0.38144563, 0.9161299 , 0.82768899, 1.4038431 ,\n       0.84063648, 0.68443363, 1.18936982, 0.70165181, 1.20191554,\n       2.09673609, 0.69522448, 1.00676979, 1.07222324, 0.6954087 ,\n       1.47053558, 0.63915357, 0.92784812, 0.50282092, 0.8576273 ,\n       1.788224  , 0.67756986, 1.99135655, 1.00734835, 3.39017092,\n       0.41964041, 0.88696674, 0.26628098, 1.61935101, 0.68195729,\n       0.45835582, 0.3713446 , 0.73521178, 1.48321076, 0.71532539,\n       0.43320004, 0.23556221, 0.82621432, 0.88993276, 1.28309948,\n       0.90915443, 1.22303196, 0.9697494 , 2.38413321, 2.00065221,\n       0.91307841, 2.10011853, 1.4790756 , 4.44604709, 0.97872085,\n       0.76646499, 2.35492992, 0.34876755, 0.99264124, 1.28248218,\n       0.4611157 , 1.93266914, 0.88226281, 1.91833913, 0.49588851,\n       0.7741708 , 0.6376401 , 1.62428411, 0.83342653, 2.07810731,\n       1.30143778, 0.30174137, 0.92199199, 0.69172181, 0.33133931,\n       0.78607626, 1.96807945, 2.23637549, 1.47660915, 0.70597496,\n       1.55640913, 0.57829285, 1.10414479, 0.63742001, 0.69771518,\n       2.14045225, 1.16454715, 0.80995866, 3.1122161 , 1.73847162,\n       0.42498686, 0.60244767, 1.02313175, 0.46705919, 0.28594699,\n       0.96094759, 1.21209654, 1.30414632, 1.96298473, 1.27867817,\n       2.04564205, 0.96089433, 0.77550533, 1.32286356, 1.28079144,\n       0.64113851, 0.68503415, 0.83844312, 0.79773643, 0.93313599,\n       0.73071143, 1.69742614, 2.3222443 , 0.5457849 , 1.51240953,\n       1.48936411, 1.22887199, 1.34327928, 0.37098069, 0.44862118,\n       0.78091721, 2.9049281 , 2.78758041, 3.03253244, 0.52522916,\n       1.32616264, 1.97103976, 0.54158852, 2.33457132, 1.25752913])"
     },
     "execution_count": 137,
     "metadata": {},
     "output_type": "execute_result"
    }
   ],
   "source": [
    "from scipy.stats.kde import gaussian_kde\n",
    "from scipy.stats import lognorm\n",
    "from numpy import hstack\n",
    "\n",
    "sample1 = lognorm.rvs(s=0.6,loc=0, scale=1, size=500)\n",
    "sample1"
   ],
   "metadata": {
    "collapsed": false,
    "pycharm": {
     "name": "#%%\n"
    }
   }
  },
  {
   "cell_type": "markdown",
   "source": [
    "### Fit Gaussian kernel density estimates using scipy.stats.gaussian_kde\n"
   ],
   "metadata": {
    "collapsed": false,
    "pycharm": {
     "name": "#%% md\n"
    }
   }
  },
  {
   "cell_type": "code",
   "execution_count": 138,
   "outputs": [],
   "source": [
    "s=0.6\n",
    "sample = hstack([sample1])\n",
    "probDensityFun = gaussian_kde(sample)\n"
   ],
   "metadata": {
    "collapsed": false,
    "pycharm": {
     "name": "#%%\n"
    }
   }
  },
  {
   "cell_type": "markdown",
   "source": [
    "### Display three plots showing the tradeoff between fit at the support boundary and overall fit."
   ],
   "metadata": {
    "collapsed": false,
    "pycharm": {
     "name": "#%% md\n"
    }
   }
  },
  {
   "cell_type": "code",
   "execution_count": 142,
   "outputs": [
    {
     "name": "stderr",
     "output_type": "stream",
     "text": [
      "D:\\anaconda\\lib\\site-packages\\seaborn\\distributions.py:2619: FutureWarning: `distplot` is a deprecated function and will be removed in a future version. Please adapt your code to use either `displot` (a figure-level function with similar flexibility) or `histplot` (an axes-level function for histograms).\n",
      "  warnings.warn(msg, FutureWarning)\n"
     ]
    },
    {
     "data": {
      "text/plain": "<Figure size 432x288 with 1 Axes>",
      "image/png": "[encoded data removed]"
     },
     "metadata": {},
     "output_type": "display_data"
    }
   ],
   "source": [
    "import numpy as np\n",
    "from matplotlib import pyplot as plt\n",
    "import seaborn as sns\n",
    "\n",
    "plt.title(\"KDE Demonstration\", fontsize=20)\n",
    "sns.distplot(a=sample, kde=True, bins=100)\n",
    "x = np.linspace(lognorm.ppf(0.01, s), lognorm.ppf(0.99, s), 500)\n",
    "plt.plot(x, probDensityFun(x), 'r')\n",
    "plt.grid(True)\n",
    "# visualizing plot using matplotlib.pyplot library\n",
    "plt.savefig ('Gaussian_kernel_density_estimates.pdf', bbox_inches='tight')\n",
    "plt.show()"
   ],
   "metadata": {
    "collapsed": false,
    "pycharm": {
     "name": "#%%\n"
    }
   }
  },
  {
   "cell_type": "markdown",
   "source": [
    "### Explanation\n",
    "\n"
   ],
   "metadata": {
    "collapsed": false,
    "pycharm": {
     "name": "#%% md\n"
    }
   }
  },
  {
   "cell_type": "markdown",
   "source": [
    "The histogram reflects the distribution of real samples. The red curve is the result of Gaussian kernel density estimation. When the sample size is 500, we find that the histogram of some points is above the red curve, which may be due to the small sample size. When we increase the sample size to 1000, we find that the histogram and Gaussian kernel density estimation are highly matched."
   ],
   "metadata": {
    "collapsed": false,
    "pycharm": {
     "name": "#%% md\n"
    }
   }
  }
 ],
 "metadata": {
  "kernelspec": {
   "display_name": "Python 3 (ipykernel)",
   "language": "python",
   "name": "python3"
  },
  "language_info": {
   "codemirror_mode": {
    "name": "ipython",
    "version": 3
   },
   "file_extension": ".py",
   "mimetype": "text/x-python",
   "name": "python",
   "nbconvert_exporter": "python",
   "pygments_lexer": "ipython3",
   "version": "3.9.12"
  }
 },
 "nbformat": 4,
 "nbformat_minor": 5
}